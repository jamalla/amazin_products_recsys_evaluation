{
 "cells": [
  {
   "attachments": {},
   "cell_type": "markdown",
   "metadata": {},
   "source": [
    "### Loading the required libraries"
   ]
  },
  {
   "cell_type": "code",
   "execution_count": 86,
   "metadata": {},
   "outputs": [],
   "source": [
    "import numpy as np\n",
    "import pandas as pd\n",
    "import matplotlib.pyplot as plt\n",
    "import seaborn as sns\n",
    "\n",
    "from surprise import Reader\n",
    "from surprise import Dataset\n",
    "from surprise.model_selection import train_test_split\n",
    "from surprise import KNNWithMeans\n",
    "from surprise import accuracy"
   ]
  },
  {
   "attachments": {},
   "cell_type": "markdown",
   "metadata": {},
   "source": [
    "### Loading the dataset (Meet the data)"
   ]
  },
  {
   "cell_type": "code",
   "execution_count": 56,
   "metadata": {},
   "outputs": [],
   "source": [
    "# Reading the dataset (CSV file)\n",
    "csv_file_path = r'datasets_src\\\\Datafiniti_Amazon_Consumer_Reviews_of_Amazon_Products.csv'\n",
    "selected_cols_list = ['name', 'asins', 'reviews.rating', 'reviews.username']\n",
    "df = pd.read_csv(csv_file_path, usecols=selected_cols_list, encoding='utf8' ,low_memory=False)\n",
    "# Rename the selected cols \n",
    "df.columns = ['product_name', 'product_id', 'rating', 'user']"
   ]
  },
  {
   "cell_type": "code",
   "execution_count": 57,
   "metadata": {},
   "outputs": [
    {
     "data": {
      "text/html": [
       "<div>\n",
       "<style scoped>\n",
       "    .dataframe tbody tr th:only-of-type {\n",
       "        vertical-align: middle;\n",
       "    }\n",
       "\n",
       "    .dataframe tbody tr th {\n",
       "        vertical-align: top;\n",
       "    }\n",
       "\n",
       "    .dataframe thead th {\n",
       "        text-align: right;\n",
       "    }\n",
       "</style>\n",
       "<table border=\"1\" class=\"dataframe\">\n",
       "  <thead>\n",
       "    <tr style=\"text-align: right;\">\n",
       "      <th></th>\n",
       "      <th>product_name</th>\n",
       "      <th>product_id</th>\n",
       "      <th>rating</th>\n",
       "      <th>user</th>\n",
       "    </tr>\n",
       "  </thead>\n",
       "  <tbody>\n",
       "    <tr>\n",
       "      <th>0</th>\n",
       "      <td>Amazon Kindle E-Reader 6\" Wifi (8th Generation...</td>\n",
       "      <td>B00ZV9PXP2</td>\n",
       "      <td>3</td>\n",
       "      <td>llyyue</td>\n",
       "    </tr>\n",
       "    <tr>\n",
       "      <th>1</th>\n",
       "      <td>Amazon Kindle E-Reader 6\" Wifi (8th Generation...</td>\n",
       "      <td>B00ZV9PXP2</td>\n",
       "      <td>5</td>\n",
       "      <td>Charmi</td>\n",
       "    </tr>\n",
       "    <tr>\n",
       "      <th>2</th>\n",
       "      <td>Amazon Kindle E-Reader 6\" Wifi (8th Generation...</td>\n",
       "      <td>B00ZV9PXP2</td>\n",
       "      <td>4</td>\n",
       "      <td>johnnyjojojo</td>\n",
       "    </tr>\n",
       "    <tr>\n",
       "      <th>3</th>\n",
       "      <td>Amazon Kindle E-Reader 6\" Wifi (8th Generation...</td>\n",
       "      <td>B00ZV9PXP2</td>\n",
       "      <td>5</td>\n",
       "      <td>Kdperry</td>\n",
       "    </tr>\n",
       "    <tr>\n",
       "      <th>4</th>\n",
       "      <td>Amazon Kindle E-Reader 6\" Wifi (8th Generation...</td>\n",
       "      <td>B00ZV9PXP2</td>\n",
       "      <td>5</td>\n",
       "      <td>Johnnyblack</td>\n",
       "    </tr>\n",
       "  </tbody>\n",
       "</table>\n",
       "</div>"
      ],
      "text/plain": [
       "                                        product_name  product_id  rating   \n",
       "0  Amazon Kindle E-Reader 6\" Wifi (8th Generation...  B00ZV9PXP2       3  \\\n",
       "1  Amazon Kindle E-Reader 6\" Wifi (8th Generation...  B00ZV9PXP2       5   \n",
       "2  Amazon Kindle E-Reader 6\" Wifi (8th Generation...  B00ZV9PXP2       4   \n",
       "3  Amazon Kindle E-Reader 6\" Wifi (8th Generation...  B00ZV9PXP2       5   \n",
       "4  Amazon Kindle E-Reader 6\" Wifi (8th Generation...  B00ZV9PXP2       5   \n",
       "\n",
       "           user  \n",
       "0        llyyue  \n",
       "1        Charmi  \n",
       "2  johnnyjojojo  \n",
       "3       Kdperry  \n",
       "4   Johnnyblack  "
      ]
     },
     "execution_count": 57,
     "metadata": {},
     "output_type": "execute_result"
    }
   ],
   "source": [
    "# Preview the first five rows of the dataset\n",
    "df.head()"
   ]
  },
  {
   "attachments": {},
   "cell_type": "markdown",
   "metadata": {},
   "source": [
    "### Exploratory data analysis (EDA)"
   ]
  },
  {
   "cell_type": "code",
   "execution_count": 58,
   "metadata": {},
   "outputs": [
    {
     "data": {
      "text/plain": [
       "(5000, 4)"
      ]
     },
     "execution_count": 58,
     "metadata": {},
     "output_type": "execute_result"
    }
   ],
   "source": [
    "# Preview the shape of the dataset\n",
    "df.shape"
   ]
  },
  {
   "cell_type": "code",
   "execution_count": 59,
   "metadata": {},
   "outputs": [
    {
     "data": {
      "text/plain": [
       "Index(['product_name', 'product_id', 'rating', 'user'], dtype='object')"
      ]
     },
     "execution_count": 59,
     "metadata": {},
     "output_type": "execute_result"
    }
   ],
   "source": [
    "# Preview the columns of the dataset\n",
    "df.columns"
   ]
  },
  {
   "cell_type": "code",
   "execution_count": 60,
   "metadata": {},
   "outputs": [
    {
     "data": {
      "text/plain": [
       "product_name    object\n",
       "product_id      object\n",
       "rating           int64\n",
       "user            object\n",
       "dtype: object"
      ]
     },
     "execution_count": 60,
     "metadata": {},
     "output_type": "execute_result"
    }
   ],
   "source": [
    "# Preview the data types of the columns\n",
    "df.dtypes"
   ]
  },
  {
   "cell_type": "code",
   "execution_count": 61,
   "metadata": {},
   "outputs": [
    {
     "data": {
      "text/html": [
       "<div>\n",
       "<style scoped>\n",
       "    .dataframe tbody tr th:only-of-type {\n",
       "        vertical-align: middle;\n",
       "    }\n",
       "\n",
       "    .dataframe tbody tr th {\n",
       "        vertical-align: top;\n",
       "    }\n",
       "\n",
       "    .dataframe thead th {\n",
       "        text-align: right;\n",
       "    }\n",
       "</style>\n",
       "<table border=\"1\" class=\"dataframe\">\n",
       "  <thead>\n",
       "    <tr style=\"text-align: right;\">\n",
       "      <th></th>\n",
       "      <th>rating</th>\n",
       "    </tr>\n",
       "  </thead>\n",
       "  <tbody>\n",
       "    <tr>\n",
       "      <th>count</th>\n",
       "      <td>5000.000000</td>\n",
       "    </tr>\n",
       "    <tr>\n",
       "      <th>mean</th>\n",
       "      <td>4.596800</td>\n",
       "    </tr>\n",
       "    <tr>\n",
       "      <th>std</th>\n",
       "      <td>0.731804</td>\n",
       "    </tr>\n",
       "    <tr>\n",
       "      <th>min</th>\n",
       "      <td>1.000000</td>\n",
       "    </tr>\n",
       "    <tr>\n",
       "      <th>25%</th>\n",
       "      <td>4.000000</td>\n",
       "    </tr>\n",
       "    <tr>\n",
       "      <th>50%</th>\n",
       "      <td>5.000000</td>\n",
       "    </tr>\n",
       "    <tr>\n",
       "      <th>75%</th>\n",
       "      <td>5.000000</td>\n",
       "    </tr>\n",
       "    <tr>\n",
       "      <th>max</th>\n",
       "      <td>5.000000</td>\n",
       "    </tr>\n",
       "  </tbody>\n",
       "</table>\n",
       "</div>"
      ],
      "text/plain": [
       "            rating\n",
       "count  5000.000000\n",
       "mean      4.596800\n",
       "std       0.731804\n",
       "min       1.000000\n",
       "25%       4.000000\n",
       "50%       5.000000\n",
       "75%       5.000000\n",
       "max       5.000000"
      ]
     },
     "execution_count": 61,
     "metadata": {},
     "output_type": "execute_result"
    }
   ],
   "source": [
    "df.describe()"
   ]
  },
  {
   "cell_type": "code",
   "execution_count": null,
   "metadata": {},
   "outputs": [],
   "source": [
    "df['rating'].value_counts()"
   ]
  },
  {
   "attachments": {},
   "cell_type": "markdown",
   "metadata": {},
   "source": [
    "#### Calculating rating counts - Bar Chart"
   ]
  },
  {
   "cell_type": "code",
   "execution_count": 65,
   "metadata": {},
   "outputs": [
    {
     "data": {
      "text/html": [
       "<div>\n",
       "<style scoped>\n",
       "    .dataframe tbody tr th:only-of-type {\n",
       "        vertical-align: middle;\n",
       "    }\n",
       "\n",
       "    .dataframe tbody tr th {\n",
       "        vertical-align: top;\n",
       "    }\n",
       "\n",
       "    .dataframe thead th {\n",
       "        text-align: right;\n",
       "    }\n",
       "</style>\n",
       "<table border=\"1\" class=\"dataframe\">\n",
       "  <thead>\n",
       "    <tr style=\"text-align: right;\">\n",
       "      <th></th>\n",
       "      <th>rating</th>\n",
       "      <th>count</th>\n",
       "    </tr>\n",
       "  </thead>\n",
       "  <tbody>\n",
       "    <tr>\n",
       "      <th>0</th>\n",
       "      <td>5</td>\n",
       "      <td>3478</td>\n",
       "    </tr>\n",
       "    <tr>\n",
       "      <th>1</th>\n",
       "      <td>4</td>\n",
       "      <td>1208</td>\n",
       "    </tr>\n",
       "    <tr>\n",
       "      <th>2</th>\n",
       "      <td>3</td>\n",
       "      <td>197</td>\n",
       "    </tr>\n",
       "    <tr>\n",
       "      <th>3</th>\n",
       "      <td>1</td>\n",
       "      <td>63</td>\n",
       "    </tr>\n",
       "    <tr>\n",
       "      <th>4</th>\n",
       "      <td>2</td>\n",
       "      <td>54</td>\n",
       "    </tr>\n",
       "  </tbody>\n",
       "</table>\n",
       "</div>"
      ],
      "text/plain": [
       "   rating  count\n",
       "0       5   3478\n",
       "1       4   1208\n",
       "2       3    197\n",
       "3       1     63\n",
       "4       2     54"
      ]
     },
     "execution_count": 65,
     "metadata": {},
     "output_type": "execute_result"
    }
   ],
   "source": [
    "ratings_count = pd.DataFrame(df['rating'].value_counts()).reset_index()\n",
    "ratings_count.columns = ['rating', 'count']\n",
    "ratings_count"
   ]
  },
  {
   "cell_type": "code",
   "execution_count": 70,
   "metadata": {},
   "outputs": [
    {
     "data": {
      "image/png": "[encoded data removed]",
      "text/plain": [
       "<Figure size 1000x500 with 1 Axes>"
      ]
     },
     "metadata": {},
     "output_type": "display_data"
    }
   ],
   "source": [
    "chart_bar = sns.catplot(x=\"rating\", data=df, kind=\"count\", aspect=2)\n",
    "chart_bar.set_xlabels(\"Ratings\")\n",
    "chart_bar.set_ylabels(\"Ratings Count\")\n",
    "\n",
    "plt.title('Ratings Count Bar Chart')\n",
    "plt.show()"
   ]
  },
  {
   "attachments": {},
   "cell_type": "markdown",
   "metadata": {},
   "source": [
    "### Collaborative Filtering (Item-Item Recommendation)"
   ]
  },
  {
   "attachments": {},
   "cell_type": "markdown",
   "metadata": {},
   "source": [
    "#### Selecting features to use"
   ]
  },
  {
   "cell_type": "code",
   "execution_count": 78,
   "metadata": {},
   "outputs": [
    {
     "data": {
      "text/html": [
       "<div>\n",
       "<style scoped>\n",
       "    .dataframe tbody tr th:only-of-type {\n",
       "        vertical-align: middle;\n",
       "    }\n",
       "\n",
       "    .dataframe tbody tr th {\n",
       "        vertical-align: top;\n",
       "    }\n",
       "\n",
       "    .dataframe thead th {\n",
       "        text-align: right;\n",
       "    }\n",
       "</style>\n",
       "<table border=\"1\" class=\"dataframe\">\n",
       "  <thead>\n",
       "    <tr style=\"text-align: right;\">\n",
       "      <th></th>\n",
       "      <th>user</th>\n",
       "      <th>product_id</th>\n",
       "      <th>rating</th>\n",
       "    </tr>\n",
       "  </thead>\n",
       "  <tbody>\n",
       "    <tr>\n",
       "      <th>0</th>\n",
       "      <td>llyyue</td>\n",
       "      <td>B00ZV9PXP2</td>\n",
       "      <td>3</td>\n",
       "    </tr>\n",
       "    <tr>\n",
       "      <th>1</th>\n",
       "      <td>Charmi</td>\n",
       "      <td>B00ZV9PXP2</td>\n",
       "      <td>5</td>\n",
       "    </tr>\n",
       "    <tr>\n",
       "      <th>2</th>\n",
       "      <td>johnnyjojojo</td>\n",
       "      <td>B00ZV9PXP2</td>\n",
       "      <td>4</td>\n",
       "    </tr>\n",
       "    <tr>\n",
       "      <th>3</th>\n",
       "      <td>Kdperry</td>\n",
       "      <td>B00ZV9PXP2</td>\n",
       "      <td>5</td>\n",
       "    </tr>\n",
       "    <tr>\n",
       "      <th>4</th>\n",
       "      <td>Johnnyblack</td>\n",
       "      <td>B00ZV9PXP2</td>\n",
       "      <td>5</td>\n",
       "    </tr>\n",
       "  </tbody>\n",
       "</table>\n",
       "</div>"
      ],
      "text/plain": [
       "           user  product_id  rating\n",
       "0        llyyue  B00ZV9PXP2       3\n",
       "1        Charmi  B00ZV9PXP2       5\n",
       "2  johnnyjojojo  B00ZV9PXP2       4\n",
       "3       Kdperry  B00ZV9PXP2       5\n",
       "4   Johnnyblack  B00ZV9PXP2       5"
      ]
     },
     "execution_count": 78,
     "metadata": {},
     "output_type": "execute_result"
    }
   ],
   "source": [
    "# To select user_items ratings\n",
    "cf_data = df[['user', 'product_id', 'rating']]\n",
    "cf_data.head()"
   ]
  },
  {
   "cell_type": "code",
   "execution_count": 79,
   "metadata": {},
   "outputs": [],
   "source": [
    "reader = Reader(rating_scale=(1, 5))\n",
    "\n",
    "cf_data = Dataset.load_from_df(cf_data, reader)\n",
    "train_data, test_data = train_test_split(cf_data, test_size=0.3, random_state=10)"
   ]
  },
  {
   "attachments": {},
   "cell_type": "markdown",
   "metadata": {},
   "source": [
    "#### Calculating Similarity - Model"
   ]
  },
  {
   "cell_type": "code",
   "execution_count": 82,
   "metadata": {},
   "outputs": [],
   "source": [
    "# Calculating Similarity\n",
    "knn = KNNWithMeans(k=5, sim_options={'name': 'pearson_baseline', 'user_based': False}, verbose=False)\n",
    "knn.fit(train_data)\n",
    "\n",
    "predictions = knn.test(test_data)"
   ]
  },
  {
   "cell_type": "code",
   "execution_count": 83,
   "metadata": {},
   "outputs": [],
   "source": [
    "# Function to return number of items rated by given user\n",
    "def get_Iu(uid):\n",
    "    try:\n",
    "        return len(train_data.ur[train_data.to_inner_uid(uid)])\n",
    "    except ValueError: # user was not part of the trainset\n",
    "        return 0\n",
    "    \n",
    "# return number of users that have rated given item\n",
    "def get_Ui(iid):\n",
    "    try: \n",
    "        return len(train_data.ir[train_data.to_inner_iid(iid)])\n",
    "    except ValueError:\n",
    "        return 0\n",
    "    \n",
    "df = pd.DataFrame(predictions, columns=['uid', 'iid', 'rui', 'est', 'details'])\n",
    "df['Iu'] = df.uid.apply(get_Iu)\n",
    "df['Ui'] = df.iid.apply(get_Ui)\n",
    "df['err'] = abs(df.est - df.rui)"
   ]
  },
  {
   "attachments": {},
   "cell_type": "markdown",
   "metadata": {},
   "source": [
    "#### Model Evaluation"
   ]
  },
  {
   "cell_type": "code",
   "execution_count": 84,
   "metadata": {},
   "outputs": [
    {
     "data": {
      "text/html": [
       "<div>\n",
       "<style scoped>\n",
       "    .dataframe tbody tr th:only-of-type {\n",
       "        vertical-align: middle;\n",
       "    }\n",
       "\n",
       "    .dataframe tbody tr th {\n",
       "        vertical-align: top;\n",
       "    }\n",
       "\n",
       "    .dataframe thead th {\n",
       "        text-align: right;\n",
       "    }\n",
       "</style>\n",
       "<table border=\"1\" class=\"dataframe\">\n",
       "  <thead>\n",
       "    <tr style=\"text-align: right;\">\n",
       "      <th></th>\n",
       "      <th>uid</th>\n",
       "      <th>iid</th>\n",
       "      <th>rui</th>\n",
       "      <th>est</th>\n",
       "      <th>details</th>\n",
       "      <th>Iu</th>\n",
       "      <th>Ui</th>\n",
       "      <th>err</th>\n",
       "    </tr>\n",
       "  </thead>\n",
       "  <tbody>\n",
       "    <tr>\n",
       "      <th>847</th>\n",
       "      <td>Rick</td>\n",
       "      <td>B01AHBBG04</td>\n",
       "      <td>5.0</td>\n",
       "      <td>5.0</td>\n",
       "      <td>{'actual_k': 3, 'was_impossible': False}</td>\n",
       "      <td>8</td>\n",
       "      <td>30</td>\n",
       "      <td>0.0</td>\n",
       "    </tr>\n",
       "    <tr>\n",
       "      <th>917</th>\n",
       "      <td>st2005</td>\n",
       "      <td>B017JG41PC</td>\n",
       "      <td>5.0</td>\n",
       "      <td>5.0</td>\n",
       "      <td>{'actual_k': 2, 'was_impossible': False}</td>\n",
       "      <td>2</td>\n",
       "      <td>110</td>\n",
       "      <td>0.0</td>\n",
       "    </tr>\n",
       "    <tr>\n",
       "      <th>1342</th>\n",
       "      <td>Lori</td>\n",
       "      <td>B01AHB9CYG</td>\n",
       "      <td>5.0</td>\n",
       "      <td>5.0</td>\n",
       "      <td>{'actual_k': 1, 'was_impossible': False}</td>\n",
       "      <td>2</td>\n",
       "      <td>29</td>\n",
       "      <td>0.0</td>\n",
       "    </tr>\n",
       "    <tr>\n",
       "      <th>155</th>\n",
       "      <td>Amanda</td>\n",
       "      <td>B06XB29FPF</td>\n",
       "      <td>5.0</td>\n",
       "      <td>5.0</td>\n",
       "      <td>{'actual_k': 2, 'was_impossible': False}</td>\n",
       "      <td>2</td>\n",
       "      <td>433</td>\n",
       "      <td>0.0</td>\n",
       "    </tr>\n",
       "    <tr>\n",
       "      <th>1340</th>\n",
       "      <td>JLT421</td>\n",
       "      <td>B00REQKWGA</td>\n",
       "      <td>5.0</td>\n",
       "      <td>5.0</td>\n",
       "      <td>{'actual_k': 1, 'was_impossible': False}</td>\n",
       "      <td>1</td>\n",
       "      <td>25</td>\n",
       "      <td>0.0</td>\n",
       "    </tr>\n",
       "    <tr>\n",
       "      <th>811</th>\n",
       "      <td>kimb</td>\n",
       "      <td>B018Y22BI4</td>\n",
       "      <td>5.0</td>\n",
       "      <td>5.0</td>\n",
       "      <td>{'actual_k': 1, 'was_impossible': False}</td>\n",
       "      <td>1</td>\n",
       "      <td>258</td>\n",
       "      <td>0.0</td>\n",
       "    </tr>\n",
       "    <tr>\n",
       "      <th>916</th>\n",
       "      <td>Tony</td>\n",
       "      <td>B00IOY8XWQ</td>\n",
       "      <td>5.0</td>\n",
       "      <td>5.0</td>\n",
       "      <td>{'actual_k': 2, 'was_impossible': False}</td>\n",
       "      <td>5</td>\n",
       "      <td>54</td>\n",
       "      <td>0.0</td>\n",
       "    </tr>\n",
       "    <tr>\n",
       "      <th>163</th>\n",
       "      <td>yokod</td>\n",
       "      <td>B018Y225IA</td>\n",
       "      <td>5.0</td>\n",
       "      <td>5.0</td>\n",
       "      <td>{'actual_k': 1, 'was_impossible': False}</td>\n",
       "      <td>1</td>\n",
       "      <td>343</td>\n",
       "      <td>0.0</td>\n",
       "    </tr>\n",
       "    <tr>\n",
       "      <th>646</th>\n",
       "      <td>Ipadjunkie</td>\n",
       "      <td>B018Y225IA</td>\n",
       "      <td>5.0</td>\n",
       "      <td>5.0</td>\n",
       "      <td>{'actual_k': 1, 'was_impossible': False}</td>\n",
       "      <td>1</td>\n",
       "      <td>343</td>\n",
       "      <td>0.0</td>\n",
       "    </tr>\n",
       "    <tr>\n",
       "      <th>814</th>\n",
       "      <td>KiKi</td>\n",
       "      <td>B018Y22C2Y</td>\n",
       "      <td>5.0</td>\n",
       "      <td>5.0</td>\n",
       "      <td>{'actual_k': 1, 'was_impossible': False}</td>\n",
       "      <td>2</td>\n",
       "      <td>390</td>\n",
       "      <td>0.0</td>\n",
       "    </tr>\n",
       "  </tbody>\n",
       "</table>\n",
       "</div>"
      ],
      "text/plain": [
       "             uid         iid  rui  est   \n",
       "847         Rick  B01AHBBG04  5.0  5.0  \\\n",
       "917       st2005  B017JG41PC  5.0  5.0   \n",
       "1342        Lori  B01AHB9CYG  5.0  5.0   \n",
       "155       Amanda  B06XB29FPF  5.0  5.0   \n",
       "1340      JLT421  B00REQKWGA  5.0  5.0   \n",
       "811         kimb  B018Y22BI4  5.0  5.0   \n",
       "916         Tony  B00IOY8XWQ  5.0  5.0   \n",
       "163        yokod  B018Y225IA  5.0  5.0   \n",
       "646   Ipadjunkie  B018Y225IA  5.0  5.0   \n",
       "814         KiKi  B018Y22C2Y  5.0  5.0   \n",
       "\n",
       "                                       details  Iu   Ui  err  \n",
       "847   {'actual_k': 3, 'was_impossible': False}   8   30  0.0  \n",
       "917   {'actual_k': 2, 'was_impossible': False}   2  110  0.0  \n",
       "1342  {'actual_k': 1, 'was_impossible': False}   2   29  0.0  \n",
       "155   {'actual_k': 2, 'was_impossible': False}   2  433  0.0  \n",
       "1340  {'actual_k': 1, 'was_impossible': False}   1   25  0.0  \n",
       "811   {'actual_k': 1, 'was_impossible': False}   1  258  0.0  \n",
       "916   {'actual_k': 2, 'was_impossible': False}   5   54  0.0  \n",
       "163   {'actual_k': 1, 'was_impossible': False}   1  343  0.0  \n",
       "646   {'actual_k': 1, 'was_impossible': False}   1  343  0.0  \n",
       "814   {'actual_k': 1, 'was_impossible': False}   2  390  0.0  "
      ]
     },
     "execution_count": 84,
     "metadata": {},
     "output_type": "execute_result"
    }
   ],
   "source": [
    "best_predictions = df.sort_values(by='err')[:10]\n",
    "best_predictions"
   ]
  },
  {
   "cell_type": "code",
   "execution_count": 85,
   "metadata": {},
   "outputs": [
    {
     "data": {
      "text/html": [
       "<div>\n",
       "<style scoped>\n",
       "    .dataframe tbody tr th:only-of-type {\n",
       "        vertical-align: middle;\n",
       "    }\n",
       "\n",
       "    .dataframe tbody tr th {\n",
       "        vertical-align: top;\n",
       "    }\n",
       "\n",
       "    .dataframe thead th {\n",
       "        text-align: right;\n",
       "    }\n",
       "</style>\n",
       "<table border=\"1\" class=\"dataframe\">\n",
       "  <thead>\n",
       "    <tr style=\"text-align: right;\">\n",
       "      <th></th>\n",
       "      <th>uid</th>\n",
       "      <th>iid</th>\n",
       "      <th>rui</th>\n",
       "      <th>est</th>\n",
       "      <th>details</th>\n",
       "      <th>Iu</th>\n",
       "      <th>Ui</th>\n",
       "      <th>err</th>\n",
       "    </tr>\n",
       "  </thead>\n",
       "  <tbody>\n",
       "    <tr>\n",
       "      <th>1127</th>\n",
       "      <td>floridapete</td>\n",
       "      <td>B00IOY8XWQ</td>\n",
       "      <td>1.0</td>\n",
       "      <td>4.608571</td>\n",
       "      <td>{'was_impossible': True, 'reason': 'User and/o...</td>\n",
       "      <td>0</td>\n",
       "      <td>54</td>\n",
       "      <td>3.608571</td>\n",
       "    </tr>\n",
       "    <tr>\n",
       "      <th>1087</th>\n",
       "      <td>tiger</td>\n",
       "      <td>B01AHB9CN2</td>\n",
       "      <td>1.0</td>\n",
       "      <td>4.608571</td>\n",
       "      <td>{'was_impossible': True, 'reason': 'User and/o...</td>\n",
       "      <td>0</td>\n",
       "      <td>545</td>\n",
       "      <td>3.608571</td>\n",
       "    </tr>\n",
       "    <tr>\n",
       "      <th>433</th>\n",
       "      <td>Jinn</td>\n",
       "      <td>B018Y22C2Y</td>\n",
       "      <td>1.0</td>\n",
       "      <td>4.608571</td>\n",
       "      <td>{'was_impossible': True, 'reason': 'User and/o...</td>\n",
       "      <td>0</td>\n",
       "      <td>390</td>\n",
       "      <td>3.608571</td>\n",
       "    </tr>\n",
       "    <tr>\n",
       "      <th>561</th>\n",
       "      <td>Sathya</td>\n",
       "      <td>B018Y22BI4</td>\n",
       "      <td>1.0</td>\n",
       "      <td>4.608571</td>\n",
       "      <td>{'was_impossible': True, 'reason': 'User and/o...</td>\n",
       "      <td>0</td>\n",
       "      <td>258</td>\n",
       "      <td>3.608571</td>\n",
       "    </tr>\n",
       "    <tr>\n",
       "      <th>1187</th>\n",
       "      <td>Jorge6541</td>\n",
       "      <td>B018Y22C2Y</td>\n",
       "      <td>1.0</td>\n",
       "      <td>4.608571</td>\n",
       "      <td>{'was_impossible': True, 'reason': 'User and/o...</td>\n",
       "      <td>0</td>\n",
       "      <td>390</td>\n",
       "      <td>3.608571</td>\n",
       "    </tr>\n",
       "    <tr>\n",
       "      <th>1435</th>\n",
       "      <td>Ronny</td>\n",
       "      <td>B018Y22BI4</td>\n",
       "      <td>1.0</td>\n",
       "      <td>4.608571</td>\n",
       "      <td>{'was_impossible': True, 'reason': 'User and/o...</td>\n",
       "      <td>0</td>\n",
       "      <td>258</td>\n",
       "      <td>3.608571</td>\n",
       "    </tr>\n",
       "    <tr>\n",
       "      <th>131</th>\n",
       "      <td>AmyLeigh</td>\n",
       "      <td>B018Y22BI4</td>\n",
       "      <td>1.0</td>\n",
       "      <td>4.608571</td>\n",
       "      <td>{'was_impossible': True, 'reason': 'User and/o...</td>\n",
       "      <td>0</td>\n",
       "      <td>258</td>\n",
       "      <td>3.608571</td>\n",
       "    </tr>\n",
       "    <tr>\n",
       "      <th>1376</th>\n",
       "      <td>HDelbrucke</td>\n",
       "      <td>B01AHB9CN2</td>\n",
       "      <td>1.0</td>\n",
       "      <td>4.608571</td>\n",
       "      <td>{'was_impossible': True, 'reason': 'User and/o...</td>\n",
       "      <td>0</td>\n",
       "      <td>545</td>\n",
       "      <td>3.608571</td>\n",
       "    </tr>\n",
       "    <tr>\n",
       "      <th>1120</th>\n",
       "      <td>Kev</td>\n",
       "      <td>B00ZV9PXP2</td>\n",
       "      <td>1.0</td>\n",
       "      <td>4.608571</td>\n",
       "      <td>{'was_impossible': True, 'reason': 'User and/o...</td>\n",
       "      <td>0</td>\n",
       "      <td>70</td>\n",
       "      <td>3.608571</td>\n",
       "    </tr>\n",
       "    <tr>\n",
       "      <th>1401</th>\n",
       "      <td>1985Taetx16</td>\n",
       "      <td>B018Y22C2Y</td>\n",
       "      <td>1.0</td>\n",
       "      <td>4.608571</td>\n",
       "      <td>{'was_impossible': True, 'reason': 'User and/o...</td>\n",
       "      <td>0</td>\n",
       "      <td>390</td>\n",
       "      <td>3.608571</td>\n",
       "    </tr>\n",
       "  </tbody>\n",
       "</table>\n",
       "</div>"
      ],
      "text/plain": [
       "              uid         iid  rui       est   \n",
       "1127  floridapete  B00IOY8XWQ  1.0  4.608571  \\\n",
       "1087        tiger  B01AHB9CN2  1.0  4.608571   \n",
       "433          Jinn  B018Y22C2Y  1.0  4.608571   \n",
       "561        Sathya  B018Y22BI4  1.0  4.608571   \n",
       "1187    Jorge6541  B018Y22C2Y  1.0  4.608571   \n",
       "1435        Ronny  B018Y22BI4  1.0  4.608571   \n",
       "131      AmyLeigh  B018Y22BI4  1.0  4.608571   \n",
       "1376   HDelbrucke  B01AHB9CN2  1.0  4.608571   \n",
       "1120          Kev  B00ZV9PXP2  1.0  4.608571   \n",
       "1401  1985Taetx16  B018Y22C2Y  1.0  4.608571   \n",
       "\n",
       "                                                details  Iu   Ui       err  \n",
       "1127  {'was_impossible': True, 'reason': 'User and/o...   0   54  3.608571  \n",
       "1087  {'was_impossible': True, 'reason': 'User and/o...   0  545  3.608571  \n",
       "433   {'was_impossible': True, 'reason': 'User and/o...   0  390  3.608571  \n",
       "561   {'was_impossible': True, 'reason': 'User and/o...   0  258  3.608571  \n",
       "1187  {'was_impossible': True, 'reason': 'User and/o...   0  390  3.608571  \n",
       "1435  {'was_impossible': True, 'reason': 'User and/o...   0  258  3.608571  \n",
       "131   {'was_impossible': True, 'reason': 'User and/o...   0  258  3.608571  \n",
       "1376  {'was_impossible': True, 'reason': 'User and/o...   0  545  3.608571  \n",
       "1120  {'was_impossible': True, 'reason': 'User and/o...   0   70  3.608571  \n",
       "1401  {'was_impossible': True, 'reason': 'User and/o...   0  390  3.608571  "
      ]
     },
     "execution_count": 85,
     "metadata": {},
     "output_type": "execute_result"
    }
   ],
   "source": [
    "worst_predictions = df.sort_values(by='err')[-10:]\n",
    "worst_predictions"
   ]
  },
  {
   "cell_type": "code",
   "execution_count": 87,
   "metadata": {},
   "outputs": [
    {
     "name": "stdout",
     "output_type": "stream",
     "text": [
      "RMSE: 0.6911\n"
     ]
    },
    {
     "data": {
      "text/plain": [
       "0.6910659357405085"
      ]
     },
     "execution_count": 87,
     "metadata": {},
     "output_type": "execute_result"
    }
   ],
   "source": [
    "accuracy.rmse(predictions, verbose=True)"
   ]
  }
 ],
 "metadata": {
  "kernelspec": {
   "display_name": "venv",
   "language": "python",
   "name": "python3"
  },
  "language_info": {
   "codemirror_mode": {
    "name": "ipython",
    "version": 3
   },
   "file_extension": ".py",
   "mimetype": "text/x-python",
   "name": "python",
   "nbconvert_exporter": "python",
   "pygments_lexer": "ipython3",
   "version": "3.11.2"
  },
  "orig_nbformat": 4
 },
 "nbformat": 4,
 "nbformat_minor": 2
}

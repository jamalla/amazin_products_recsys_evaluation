{
 "cells": [
  {
   "cell_type": "code",
   "execution_count": 12,
   "metadata": {},
   "outputs": [],
   "source": [
    "import pandas as pd"
   ]
  },
  {
   "cell_type": "code",
   "execution_count": 13,
   "metadata": {},
   "outputs": [],
   "source": [
    "\n",
    "# Reading the dataset (CSV file)\n",
    "csv_file_path = r'datasets_src\\\\Datafiniti_Amazon_Consumer_Reviews_of_Amazon_Products_2.csv'\n",
    "\n",
    "df = pd.read_csv(csv_file_path, encoding='utf8' ,low_memory=False)"
   ]
  },
  {
   "cell_type": "code",
   "execution_count": 14,
   "metadata": {},
   "outputs": [],
   "source": [
    "# Drop irrelevant columns \n",
    "df = df.drop(columns=['id', 'manufacturer', 'reviews.dateAdded', 'reviews.id'])"
   ]
  },
  {
   "attachments": {},
   "cell_type": "markdown",
   "metadata": {},
   "source": [
    "The following cols were removed:\n",
    "- id: This column is a unique identifier for each product and is not relevant to the analysis.\n",
    "- manufacturer: This column contains the name of the product manufacturer and is not relevant to the analysis.\n",
    "- reviews.dateAdded: This column contains the date when the review was added to the dataset and is not relevant to the analysis.\n",
    "- reviews.id: This column is a unique identifier for each review and is not relevant to the analysis."
   ]
  },
  {
   "cell_type": "code",
   "execution_count": 15,
   "metadata": {},
   "outputs": [
    {
     "name": "stdout",
     "output_type": "stream",
     "text": [
      "Click-Through Rate (CTR): 0.953\n",
      "Conversion Rate (CR): 0.7299055613850997\n",
      "Average Order Value (AOV): 4.5968\n"
     ]
    }
   ],
   "source": [
    "# calculating click-through rate (CTR)\n",
    "total_recommendations = len(df)\n",
    "clicks = len(df[df['reviews.doRecommend'] == True])\n",
    "ctr = clicks / total_recommendations\n",
    "\n",
    "# calculating conversion rate (CR)\n",
    "purchases = len(df[df['reviews.rating'] == 5])\n",
    "cr = purchases / clicks\n",
    "\n",
    "# calculating average order value (AOV)\n",
    "total_sales = df['reviews.rating'].sum()\n",
    "total_orders = len(df)\n",
    "aov = total_sales / total_orders\n",
    "\n",
    "# print the results\n",
    "print('Click-Through Rate (CTR):', ctr)\n",
    "print('Conversion Rate (CR):', cr)\n",
    "print('Average Order Value (AOV):', aov)\n"
   ]
  }
 ],
 "metadata": {
  "kernelspec": {
   "display_name": ".venv",
   "language": "python",
   "name": "python3"
  },
  "language_info": {
   "codemirror_mode": {
    "name": "ipython",
    "version": 3
   },
   "file_extension": ".py",
   "mimetype": "text/x-python",
   "name": "python",
   "nbconvert_exporter": "python",
   "pygments_lexer": "ipython3",
   "version": "3.11.2"
  },
  "orig_nbformat": 4
 },
 "nbformat": 4,
 "nbformat_minor": 2
}
